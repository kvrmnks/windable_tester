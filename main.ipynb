{
 "cells": [
  {
   "cell_type": "code",
   "execution_count": 1,
   "metadata": {},
   "outputs": [],
   "source": [
    "import numpy as np\n",
    "import math as mt"
   ]
  },
  {
   "cell_type": "code",
   "execution_count": 6,
   "metadata": {},
   "outputs": [],
   "source": [
    "def fac2(n: int):\n",
    "    a = 1\n",
    "    for i in range(n, 0, -2):\n",
    "        a *= i\n",
    "    return a"
   ]
  },
  {
   "attachments": {},
   "cell_type": "markdown",
   "metadata": {},
   "source": [
    "## Generate m"
   ]
  },
  {
   "cell_type": "code",
   "execution_count": 124,
   "metadata": {},
   "outputs": [],
   "source": [
    "def generateA(m):\n",
    "    n = m // 2\n",
    "    A = np.zeros((n + 1, n + 1), dtype=np.int64)\n",
    "    if m % 2 == 0:\n",
    "        for i in range(0, n+1):\n",
    "            for j in range(0, i+1):\n",
    "                if (i%2) == (j%2):\n",
    "                    # print(f'matrix i: {i}, j: {j}')\n",
    "                    A[i][j] = mt.comb(i, j) * mt.comb(2*n - i, j) * fac2(i-j-1) * fac2(2*n-i-j-1)\n",
    "    else:\n",
    "        for i in range(0, n+1):\n",
    "            for j in range(0, i+1):\n",
    "                if (i%2) == (j%2):\n",
    "                    # print(i, j, mt.comb(i, j) , 2*n+1-i, j)\n",
    "                    A[i][j] = mt.comb(i, j) * mt.comb(2*n+1-i, j) * mt.factorial(j) * fac2(i-j-1) * fac2(2*n+1-i-j)\n",
    "                else:\n",
    "                    A[i][j] = mt.comb(i, j) * mt.comb(2*n+1-i, j) * mt.factorial(j) * fac2(i-j) * (2*n-i-j)\n",
    "    return A"
   ]
  },
  {
   "attachments": {},
   "cell_type": "markdown",
   "metadata": {},
   "source": [
    "## Generate local polynomial under pinnings"
   ]
  },
  {
   "cell_type": "code",
   "execution_count": 125,
   "metadata": {},
   "outputs": [],
   "source": [
    "def generateH(function: list):\n",
    "    d = len(function)\n",
    "    for i in range(0, d):\n",
    "        for j in range(i, d):\n",
    "            function_under_pinnings = np.array(function[i:j+1])\n",
    "            complement = function[i:j+1]\n",
    "            # a = []\n",
    "            complement.reverse()\n",
    "            complement = np.array(complement)\n",
    "            # print(function_under_pinnings, complement)\n",
    "            H = function_under_pinnings * complement\n",
    "            l = len(H)-1\n",
    "            if l == 0:\n",
    "                continue\n",
    "            h = H[:l//2+1]\n",
    "            # print(f'H, l: {l}, h: {h}, H: {H}')\n",
    "            yield (h, l)\n",
    "            \n",
    "            \n",
    "        "
   ]
  },
  {
   "attachments": {},
   "cell_type": "markdown",
   "metadata": {},
   "source": [
    "## Choose your local polynomial here"
   ]
  },
  {
   "cell_type": "code",
   "execution_count": 132,
   "metadata": {},
   "outputs": [],
   "source": [
    "F = [1,1,1,1,1,1,1,1,1,0,0,0,0,0,0,0,0]"
   ]
  },
  {
   "cell_type": "code",
   "execution_count": 133,
   "metadata": {},
   "outputs": [
    {
     "name": "stdout",
     "output_type": "stream",
     "text": [
      "m: 1 \n",
      " h: [1] \n",
      " A: \n",
      "[[1]] \n",
      " x: [1.]\n",
      "m: 2 \n",
      " h: [1 1] \n",
      " A: \n",
      "[[1 0]\n",
      " [0 1]] \n",
      " x: [1. 1.]\n",
      "m: 3 \n",
      " h: [1 1] \n",
      " A: \n",
      "[[3 0]\n",
      " [1 2]] \n",
      " x: [0.33333333 0.33333333]\n",
      "m: 4 \n",
      " h: [1 1 1] \n",
      " A: \n",
      "[[3 0 0]\n",
      " [0 3 0]\n",
      " [1 0 1]] \n",
      " x: [0.33333333 0.33333333 0.66666667]\n",
      "m: 5 \n",
      " h: [1 1 1] \n",
      " A: \n",
      "[[15  0  0]\n",
      " [ 3 12  0]\n",
      " [ 3  6  6]] \n",
      " x: [0.06666667 0.06666667 0.06666667]\n",
      "m: 6 \n",
      " h: [1 1 1 1] \n",
      " A: \n",
      "[[15  0  0  0]\n",
      " [ 0 15  0  0]\n",
      " [ 3  0  6  0]\n",
      " [ 0  9  0  1]] \n",
      " x: [0.06666667 0.06666667 0.13333333 0.4       ]\n",
      "m: 7 \n",
      " h: [1 1 1 1] \n",
      " A: \n",
      "[[105   0   0   0]\n",
      " [  5  90   0   0]\n",
      " [ 15  30  60   0]\n",
      " [  9  36  36  24]] \n",
      " x: [0.00952381 0.01058201 0.00899471 0.00873016]\n",
      "m: 8 \n",
      " h: [1 1 1 1 1] \n",
      " A: \n",
      "[[105   0   0   0   0]\n",
      " [  0 105   0   0   0]\n",
      " [ 15   0  45   0   0]\n",
      " [  0  45   0  10   0]\n",
      " [  9   0  36   0   1]] \n",
      " x: [0.00952381 0.00952381 0.01904762 0.05714286 0.22857143]\n",
      "m: 9 \n",
      " h: [0 1 1 1 1] \n",
      " A: \n",
      "[[945   0   0   0   0]\n",
      " [  7 840   0   0   0]\n",
      " [105  70 630   0   0]\n",
      " [ 15 270 270 360   0]\n",
      " [ 45 180 360 240 120]] \n",
      " x: [0.         0.00119048 0.00145503 0.00079365 0.00059524]\n",
      "m: 10 \n",
      " h: [0 0 1 1 1 1] \n",
      " A: \n",
      "[[945   0   0   0   0   0]\n",
      " [  0 945   0   0   0   0]\n",
      " [105   0 420   0   0   0]\n",
      " [  0 315   0 105   0   0]\n",
      " [ 45   0 270   0  15   0]\n",
      " [  0 225   0 100   0   1]] \n",
      " x: [0.         0.         0.00238095 0.00952381 0.02380952 0.04761905]\n",
      "m: 11 \n",
      " h: [0 0 0 1 1 1] \n",
      " A: \n",
      "[[10395     0     0     0     0     0]\n",
      " [    9  9450     0     0     0     0]\n",
      " [  945   126  7560     0     0     0]\n",
      " [   21  2520   840  5040     0     0]\n",
      " [  315   420  3780  2520  2520     0]\n",
      " [   75  1350  2700  3600  1800   720]] \n",
      " x: [ 0.00000000e+00  0.00000000e+00  0.00000000e+00  1.98412698e-04\n",
      "  1.98412698e-04 -9.92063492e-05]\n",
      "error!\n"
     ]
    }
   ],
   "source": [
    "for (h,m) in generateH(F):\n",
    "    A = generateA(m)\n",
    "    \n",
    "    x = np.linalg.solve(A, h)\n",
    "    print(f'm: {m} \\n h: {h} \\n A: \\n{A} \\n x: {x}')\n",
    "    if (x<0).any():\n",
    "        print('error!')\n",
    "        break\n",
    "    "
   ]
  },
  {
   "cell_type": "code",
   "execution_count": null,
   "metadata": {},
   "outputs": [],
   "source": []
  }
 ],
 "metadata": {
  "kernelspec": {
   "display_name": "base",
   "language": "python",
   "name": "python3"
  },
  "language_info": {
   "codemirror_mode": {
    "name": "ipython",
    "version": 3
   },
   "file_extension": ".py",
   "mimetype": "text/x-python",
   "name": "python",
   "nbconvert_exporter": "python",
   "pygments_lexer": "ipython3",
   "version": "3.9.12"
  },
  "orig_nbformat": 4
 },
 "nbformat": 4,
 "nbformat_minor": 2
}
